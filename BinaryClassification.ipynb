{
  "nbformat": 4,
  "nbformat_minor": 0,
  "metadata": {
    "colab": {
      "provenance": [],
      "authorship_tag": "ABX9TyOESTgNuIhwdItqIeoLj17A",
      "include_colab_link": true
    },
    "kernelspec": {
      "name": "python3",
      "display_name": "Python 3"
    },
    "language_info": {
      "name": "python"
    }
  },
  "cells": [
    {
      "cell_type": "markdown",
      "metadata": {
        "id": "view-in-github",
        "colab_type": "text"
      },
      "source": [
        "<a href=\"https://colab.research.google.com/github/Shnrqpdr/classification-models/blob/main/BinaryClassification.ipynb\" target=\"_parent\"><img src=\"https://colab.research.google.com/assets/colab-badge.svg\" alt=\"Open In Colab\"/></a>"
      ]
    },
    {
      "cell_type": "markdown",
      "source": [
        "Criação das features de classificação"
      ],
      "metadata": {
        "id": "3QieUx9DLdPL"
      }
    },
    {
      "cell_type": "code",
      "execution_count": 36,
      "metadata": {
        "id": "nt4igbBjI9li",
        "colab": {
          "base_uri": "https://localhost:8080/"
        },
        "outputId": "c21725fd-d162-4f2a-9bcf-75e4db05df4c"
      },
      "outputs": [
        {
          "output_type": "stream",
          "name": "stdout",
          "text": [
            "[0, 1, 0]\n",
            "[[0, 1, 0], [1, 1, 0], [1, 0, 1], [0, 0, 1], [0, 1, 0], [1, 1, 0], [1, 0, 1], [0, 0, 1], [0, 1, 0], [1, 1, 0], [1, 0, 1], [0, 0, 1], [0, 1, 0], [1, 1, 0], [1, 0, 1], [0, 0, 1], [0, 1, 0], [1, 1, 0], [1, 0, 1], [0, 0, 1]]\n",
            "[0, 1, 0, 1, 0, 1, 0, 1, 0, 1, 0, 1, 0, 1, 0, 1, 0, 1, 0, 1]\n"
          ]
        }
      ],
      "source": [
        "# feature = [pelo extenso?, perna curta?, late?]\n",
        "\n",
        "#cria as variáveis da feature de forma dinâmica\n",
        "for i in range(0, 10):\n",
        "  globals()[f'featureOne{i}'] = [i%2, (i+1)%2, (i+2)%2]\n",
        "  globals()[f'featureTwo{i}'] = [(i+3)%2, (i+7)%2, (i+4)%2]\n",
        "\n",
        "print(globals()[f'featureOne0'])\n",
        "\n",
        "data = []\n",
        "classifications = []\n",
        "\n",
        "for i in range (0, 10):\n",
        "  data.append(globals()[f'featureOne{i}'])\n",
        "  data.append(globals()[f'featureTwo{i}'])\n",
        "\n",
        "for i in range(0, 20):\n",
        "  classifications.append(i%2)\n",
        "\n",
        "print(data)\n",
        "print(classifications)"
      ]
    },
    {
      "cell_type": "markdown",
      "source": [
        "Treinando o modelo"
      ],
      "metadata": {
        "id": "gyAV2PdzJCnK"
      }
    },
    {
      "cell_type": "code",
      "source": [
        "from sklearn.svm import LinearSVC\n",
        "\n",
        "model = LinearSVC()\n",
        "model.fit(data, classifications)"
      ],
      "metadata": {
        "colab": {
          "base_uri": "https://localhost:8080/"
        },
        "id": "WqqErc3ONaOj",
        "outputId": "e5b03368-cfba-43a1-f068-e5ab4d655a23"
      },
      "execution_count": 35,
      "outputs": [
        {
          "output_type": "execute_result",
          "data": {
            "text/plain": [
              "LinearSVC()"
            ]
          },
          "metadata": {},
          "execution_count": 35
        }
      ]
    },
    {
      "cell_type": "markdown",
      "source": [
        "Testes de Predicts\n"
      ],
      "metadata": {
        "id": "goh6AvIhPvFz"
      }
    },
    {
      "cell_type": "code",
      "source": [
        "mystFeature1 = [0, 1, 0]\n",
        "mystFeature2 = [1, 1, 0]\n",
        "mystFeature3 = [0, 1, 1]\n",
        "\n",
        "training = [mystFeature1, mystFeature2, mystFeature3]\n",
        "\n",
        "model.predict(training)"
      ],
      "metadata": {
        "colab": {
          "base_uri": "https://localhost:8080/"
        },
        "id": "0l2zOHuQPuE7",
        "outputId": "de9f38af-357e-4c7c-9040-30e2a287f78c"
      },
      "execution_count": 34,
      "outputs": [
        {
          "output_type": "execute_result",
          "data": {
            "text/plain": [
              "array([0, 0, 0])"
            ]
          },
          "metadata": {},
          "execution_count": 34
        }
      ]
    },
    {
      "cell_type": "markdown",
      "source": [
        "Comparação de veracidade"
      ],
      "metadata": {
        "id": "6zA_yBJqRkrE"
      }
    }
  ]
}